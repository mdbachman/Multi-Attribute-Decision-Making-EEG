{
 "cells": [
  {
   "cell_type": "markdown",
   "metadata": {},
   "source": [
    "# Final processing script, to see the results of the classification analyses"
   ]
  },
  {
   "cell_type": "markdown",
   "metadata": {},
   "source": [
    "This analyzes the data from the SVRS (which only include FaceValue,Color Value, and Value-2).\n",
    "\n",
    "This script is quite straightforward. It loads the relevant classificaiton scores for each condition and concatenates them. It also identifies clusters that are statistically significant (after permutation testing). The results are all plotted below. \n",
    "\n",
    "This plot uses the output of \"TemporallySpecificAnalyses_SVR_mainFunctions\". You may need to adjust the \"datapath\" variable to point it to the correct directory."
   ]
  },
  {
   "cell_type": "markdown",
   "metadata": {},
   "source": [
    "#### Import relevant modules"
   ]
  },
  {
   "cell_type": "code",
   "execution_count": 1,
   "metadata": {},
   "outputs": [
    {
     "name": "stderr",
     "output_type": "stream",
     "text": [
      "C:\\Users\\bachmanm\\AppData\\Local\\Temp\\ipykernel_13572\\2300038999.py:13: DeprecationWarning: Importing display from IPython.core.display is deprecated since IPython 7.14, please import from IPython display\n",
      "  from IPython.core.display import display, HTML\n"
     ]
    },
    {
     "data": {
      "text/html": [
       "<style>.container { width:70% !important; }</style>"
      ],
      "text/plain": [
       "<IPython.core.display.HTML object>"
      ]
     },
     "metadata": {},
     "output_type": "display_data"
    },
    {
     "data": {
      "text/html": [
       "<style>div.output_scroll { height: 40em; }</style>"
      ],
      "text/plain": [
       "<IPython.core.display.HTML object>"
      ]
     },
     "metadata": {},
     "output_type": "display_data"
    }
   ],
   "source": [
    "%reload_ext autoreload\n",
    "%autoreload 2\n",
    "%run EEG_auxiliary_module_sptm_wICA.ipynb\n",
    "import matplotlib.pyplot as plt\n",
    "import numpy as np\n",
    "import pandas as pd\n",
    "from statsmodels.graphics.tsaplots import plot_acf\n",
    "import statsmodels.api as sm\n",
    "import os\n",
    "import mne\n",
    "import scipy as scipy\n",
    "from IPython.core.debugger import set_trace\n",
    "from IPython.core.display import display, HTML\n",
    "display(HTML(\"<style>.container { width:70% !important; }</style>\"))\n",
    "display(HTML(\"<style>div.output_scroll { height: 40em; }</style>\"))\n",
    "#disable sklearn warnings\n",
    "import sys\n",
    "import warnings\n",
    "if not sys.warnoptions:\n",
    "    warnings.simplefilter('ignore')\n",
    "    os.environ['PYTHONWARNINGS']='ignore'\n",
    "from scipy import stats as stats\n",
    "# from IPython.core.interactiveshell import InteractiveShell\n",
    "# InteractiveShell.ast_node_interactivity = \"all\"\n"
   ]
  },
  {
   "cell_type": "markdown",
   "metadata": {},
   "source": [
    "### get average accuracy for all subjects"
   ]
  },
  {
   "cell_type": "code",
   "execution_count": 2,
   "metadata": {
    "scrolled": true
   },
   "outputs": [
    {
     "name": "stdout",
     "output_type": "stream",
     "text": [
      "Using a threshold of 2.022691\n",
      "stat_fun(H1): min=-0.925941 max=5.044694\n",
      "Running initial clustering …\n",
      "Found 18 clusters\n"
     ]
    },
    {
     "data": {
      "application/vnd.jupyter.widget-view+json": {
       "model_id": "6e6940e242c849169e7d5cef5f8b46ab",
       "version_major": 2,
       "version_minor": 0
      },
      "text/plain": [
       "  0%|          | Permuting : 0/4095 [00:00<?,       ?it/s]"
      ]
     },
     "metadata": {},
     "output_type": "display_data"
    },
    {
     "name": "stdout",
     "output_type": "stream",
     "text": [
      "Using a threshold of 2.022691\n",
      "stat_fun(H1): min=-1.266080 max=5.520931\n",
      "Running initial clustering …\n",
      "Found 19 clusters\n"
     ]
    },
    {
     "data": {
      "application/vnd.jupyter.widget-view+json": {
       "model_id": "3ca56aaa350f44ad9aa7fd5831a8615d",
       "version_major": 2,
       "version_minor": 0
      },
      "text/plain": [
       "  0%|          | Permuting : 0/4095 [00:00<?,       ?it/s]"
      ]
     },
     "metadata": {},
     "output_type": "display_data"
    },
    {
     "name": "stdout",
     "output_type": "stream",
     "text": [
      "Using a threshold of 2.022691\n",
      "stat_fun(H1): min=-1.475671 max=4.651746\n",
      "Running initial clustering …\n",
      "Found 16 clusters\n"
     ]
    },
    {
     "data": {
      "application/vnd.jupyter.widget-view+json": {
       "model_id": "47cdae3e2750401c9de3e9a54a270ef3",
       "version_major": 2,
       "version_minor": 0
      },
      "text/plain": [
       "  0%|          | Permuting : 0/4095 [00:00<?,       ?it/s]"
      ]
     },
     "metadata": {},
     "output_type": "display_data"
    },
    {
     "name": "stderr",
     "output_type": "stream",
     "text": [
      "The PostScript backend does not support transparency; partially transparent artists will be rendered opaque.\n"
     ]
    }
   ],
   "source": [
    "subjects = [str(s) for s in [150,151,152,153,154,155,156,157,158,159,160,161,162,163,164,166,167,168,169,170,171,173,174,176,177,178,180,181,182,183,185,186,188,189,190,191,192,193,194,195]]\n",
    "\n",
    "tres = .05\n",
    "%matplotlib qt\n",
    "\n",
    "    ################# get accuracy by time #####################  \n",
    "fig, ax = plt.subplots(figsize=(10,10))\n",
    "n_cols  = 1\n",
    "n_rows  = 3\n",
    "\n",
    "n_panel = 0\n",
    "time = np.arange(-200,2000,10)\n",
    "FaceV_score = np.full((len(subjects),time.shape[0]),np.nan)\n",
    "ColorV_score = np.full((len(subjects),time.shape[0]),np.nan)\n",
    "OverallV_score = np.full((len(subjects),time.shape[0]),np.nan)\n",
    "\n",
    "for s,subj in enumerate(subjects):\n",
    "    \n",
    "    study        = 'MADeEEG1'\n",
    "    studyPathInd = os.getcwd().find(study)\n",
    "    dataPath     = os.path.join('Results',subj,'classification_guggenmos_noJitFix')#,,'Cluster'\n",
    "    Ffile_name     = 'stimClassification_FaceValues_Stimulus_long_10ms_SVR_reref.npy'             \n",
    "    Cfile_name     = 'stimClassification_ColorValues_Stimulus_long_10ms_SVR_reref.npy'             \n",
    "    Vfile_name     = 'stimClassification_Value-2_Stimulus_long_10ms_SVR_reref.npy'             \n",
    "    Ffname    = os.path.join(dataPath,Ffile_name)\n",
    "    Cfname    = os.path.join(dataPath,Cfile_name)\n",
    "    Vfname    = os.path.join(dataPath,Vfile_name)\n",
    "    Fscore      = np.load(Ffname)   \n",
    "    Cscore      = np.load(Cfname)    \n",
    "    Vscore      = np.load(Vfname)    \n",
    "    FaceV_score[s,:] = Fscore\n",
    "    ColorV_score[s,:] = Cscore\n",
    "    OverallV_score[s,:] = Vscore\n",
    "\n",
    "# Run cluster based permutation\n",
    "t_obs, clusters, cluster_p_values, hzero = mne.stats.spatio_temporal_cluster_1samp_test(FaceV_score,n_permutations=2**12)\n",
    "good_clusters_idx = np.where(cluster_p_values < 0.05)[0]\n",
    "good_clusters = [clusters[idx] for idx in good_clusters_idx]\n",
    "FsigLine    = np.empty(time.shape)\n",
    "FsigLine[:] = np.nan\n",
    "for x in good_clusters:\n",
    "    FsigLine[x] = .04\n",
    "\n",
    "t_obs, clusters, cluster_p_values, hzero = mne.stats.spatio_temporal_cluster_1samp_test(ColorV_score,n_permutations=2**12)\n",
    "good_clusters_idx = np.where(cluster_p_values < 0.05)[0]\n",
    "good_clusters = [clusters[idx] for idx in good_clusters_idx]\n",
    "CsigLine    = np.empty(time.shape)\n",
    "CsigLine[:] = np.nan\n",
    "for x in good_clusters:\n",
    "    CsigLine[x] = .04\n",
    "    \n",
    "t_obs, clusters, cluster_p_values, hzero = mne.stats.spatio_temporal_cluster_1samp_test(OverallV_score,n_permutations=2**12)\n",
    "good_clusters_idx = np.where(cluster_p_values < 0.05)[0]\n",
    "good_clusters = [clusters[idx] for idx in good_clusters_idx]\n",
    "VsigLine    = np.empty(time.shape)\n",
    "VsigLine[:] = np.nan\n",
    "for x in good_clusters:\n",
    "    VsigLine[x] = .04    \n",
    "# Plot FaceValue    \n",
    "xticks = np.around(np.linspace(time[0],time[-1],10),decimals = 2)\n",
    "timelabels = []\n",
    "[timelabels.append(str(t)) for t in xticks]\n",
    "\n",
    "ax = plt.subplot(n_rows,n_cols,1)        \n",
    "# calculate average\n",
    "plt.axhline(y=0,color='k',linestyle='-')\n",
    "plt.xlim(-200,2000)\n",
    "tick_labels = ['-200','0','200','400','600','800','1000','1200','1400','1600','1800','2000']\n",
    "plt.axvline(x=1000,color='k',linestyle='--')\n",
    "plt.axvline(x=0,color='k',linestyle='--')\n",
    "plt.xticks(np.arange(time[0],time[-1],step=200))\n",
    "plt.show\n",
    "plt.plot(time,np.nanmean(FaceV_score,axis=0))\n",
    "plt.plot(time, FsigLine,marker='s',  markersize=3,c='red')\n",
    "plt.fill_between(time,np.nanmean(FaceV_score,axis=0) - scipy.stats.sem(FaceV_score,0), np.nanmean(OverallV_score,axis=0) + scipy.stats.sem(FaceV_score,0),alpha=.2)\n",
    "plt.xlabel('time (ms)')\n",
    "plt.ylabel('Fisher Z coefficient')\n",
    "plt.ylim([-.03,.05])\n",
    "#plt.yticks(np.arange(chance-5,chance+15,step=5))\n",
    "plt.title('Face Value')\n",
    "\n",
    "ax = plt.subplot(n_rows,n_cols,2)        \n",
    "# calculate average\n",
    "plt.axhline(y=0,color='k',linestyle='-')\n",
    "plt.xlim(-200,2000)\n",
    "tick_labels = ['-200','0','200','400','600','800','1000','1200','1400','1600','1800','2000']\n",
    "plt.axvline(x=1000,color='k',linestyle='--')\n",
    "plt.axvline(x=0,color='k',linestyle='--')\n",
    "plt.xticks(np.arange(time[0],time[-1],step=200))\n",
    "plt.show\n",
    "plt.plot(time,np.nanmean(ColorV_score,axis=0))\n",
    "plt.plot(time, CsigLine,marker='s',  markersize=3,c='red')\n",
    "plt.fill_between(time,np.nanmean(ColorV_score,axis=0) - scipy.stats.sem(ColorV_score,0), np.nanmean(ColorV_score,axis=0) + scipy.stats.sem(ColorV_score,0),alpha=.2)\n",
    "plt.xlabel('time (ms)')\n",
    "plt.ylabel('Fisher Z coefficient')\n",
    "plt.ylim([-.03,.05])\n",
    "#plt.yticks(np.arange(chance-5,chance+15,step=5))\n",
    "plt.title('Color Value')\n",
    "\n",
    "ax = plt.subplot(n_rows,n_cols,3)        \n",
    "# calculate average\n",
    "plt.axhline(y=0,color='k',linestyle='-')\n",
    "plt.xlim(-200,2000)\n",
    "tick_labels = ['-200','0','200','400','600','800','1000','1200','1400','1600','1800','2000']\n",
    "plt.axvline(x=1000,color='k',linestyle='--')\n",
    "plt.axvline(x=0,color='k',linestyle='--')\n",
    "plt.xticks(np.arange(time[0],time[-1],step=200))\n",
    "plt.show\n",
    "plt.plot(time,np.nanmean(OverallV_score,axis=0))\n",
    "plt.plot(time, VsigLine,marker='s',  markersize=3,c='red')\n",
    "plt.fill_between(time,np.nanmean(OverallV_score,axis=0) - scipy.stats.sem(OverallV_score,0), np.nanmean(OverallV_score,axis=0) + scipy.stats.sem(OverallV_score,0),alpha=.2)\n",
    "plt.xlabel('time (ms)')\n",
    "plt.ylabel('Fisher Z coefficient')\n",
    "plt.ylim([-.03,.05])\n",
    "#plt.yticks(np.arange(chance-5,chance+15,step=5))\n",
    "plt.title('Overall Value')\n",
    "        \n",
    "\n",
    "plt.subplots_adjust(left=None, bottom=None, right=None, top=None, wspace=.3, hspace=.8)\n",
    "plt.savefig('full_set_n40_permutations_SVR_reref.eps', format='eps')\n",
    "\n",
    "\n"
   ]
  },
  {
   "cell_type": "code",
   "execution_count": 3,
   "metadata": {},
   "outputs": [
    {
     "data": {
      "text/plain": [
       "array([ 440,  450,  460,  470,  480,  490,  500,  510,  520,  530,  540,\n",
       "        550,  560,  570,  580,  590,  600,  610,  620,  630,  640,  650,\n",
       "        660,  670,  680,  690,  700,  710,  720,  730,  740,  750,  760,\n",
       "        770,  780,  790,  800,  810,  820,  830,  840,  850,  860,  870,\n",
       "        880,  890,  900,  910,  920,  930,  940,  950,  960,  970,  980,\n",
       "        990, 1000, 1010, 1020, 1030, 1040, 1050, 1060, 1070, 1080, 1090,\n",
       "       1100, 1110, 1120, 1130, 1140, 1150, 1160, 1170, 1180, 1190, 1200,\n",
       "       1210, 1220, 1230, 1240, 1250, 1460, 1470, 1480, 1490, 1500, 1510,\n",
       "       1520, 1530, 1540, 1550, 1560, 1570, 1580, 1590, 1600, 1610, 1620,\n",
       "       1630, 1640, 1650, 1660, 1670, 1680, 1690, 1700, 1710, 1720, 1730])"
      ]
     },
     "execution_count": 3,
     "metadata": {},
     "output_type": "execute_result"
    }
   ],
   "source": [
    "# To find the significant time-clusters for each condition\n",
    "time[~np.isnan(FsigLine)]"
   ]
  },
  {
   "cell_type": "code",
   "execution_count": 4,
   "metadata": {},
   "outputs": [
    {
     "data": {
      "text/plain": [
       "array([120, 130, 140, 150, 160, 170, 180, 190, 200, 210, 220, 230, 240,\n",
       "       250, 260, 270, 290, 300, 310, 320, 330, 340, 350])"
      ]
     },
     "execution_count": 4,
     "metadata": {},
     "output_type": "execute_result"
    }
   ],
   "source": [
    "time[~np.isnan(CsigLine)]"
   ]
  },
  {
   "cell_type": "code",
   "execution_count": 5,
   "metadata": {},
   "outputs": [
    {
     "data": {
      "text/plain": [
       "array([ 510,  520,  530,  540,  550,  560,  570,  580,  590,  600,  610,\n",
       "        620,  630,  640,  650,  660,  670,  680,  690,  700,  710,  720,\n",
       "        730,  740,  750,  760,  770,  780,  790,  800,  810,  820,  830,\n",
       "        840,  850,  860,  870,  880,  890,  900,  910,  920,  930,  940,\n",
       "        950,  960,  970,  980,  990, 1000, 1010, 1020, 1030, 1040, 1050,\n",
       "       1060, 1070, 1080, 1090, 1100, 1110, 1120, 1130, 1140, 1150, 1160,\n",
       "       1170, 1180, 1190, 1200, 1210, 1220, 1230, 1240, 1250, 1260, 1270,\n",
       "       1280, 1290, 1300, 1310, 1320])"
      ]
     },
     "execution_count": 5,
     "metadata": {},
     "output_type": "execute_result"
    }
   ],
   "source": [
    "time[~np.isnan(VsigLine)]"
   ]
  }
 ],
 "metadata": {
  "kernelspec": {
   "display_name": "Python 3 (ipykernel)",
   "language": "python",
   "name": "python3"
  },
  "language_info": {
   "codemirror_mode": {
    "name": "ipython",
    "version": 3
   },
   "file_extension": ".py",
   "mimetype": "text/x-python",
   "name": "python",
   "nbconvert_exporter": "python",
   "pygments_lexer": "ipython3",
   "version": "3.11.5"
  }
 },
 "nbformat": 4,
 "nbformat_minor": 4
}
