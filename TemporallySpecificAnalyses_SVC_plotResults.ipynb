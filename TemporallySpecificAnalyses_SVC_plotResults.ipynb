{
 "cells": [
  {
   "cell_type": "markdown",
   "metadata": {},
   "source": [
    "# Final processing script, to see the results of the classification analyses"
   ]
  },
  {
   "cell_type": "markdown",
   "metadata": {},
   "source": [
    "This script is quite straightforward. It loads the relevant classificaiton scores for each condition and concatenates them. It also identifies clusters that are statistically significant (after permutation testing). The results are all plotted below. \n",
    "\n",
    "Critically, the data is loaded through the function \"get_accuracy_by_time_guggenmos_v2_reref\" which is located in EEG_auxiliary_module_sptm_wICA.ipynb. You will need to adjust this function to load the output from \"TemporallySpecificAnalyses_SVC_mainFunctions\", depending on how you arrange your folder system."
   ]
  },
  {
   "cell_type": "markdown",
   "metadata": {},
   "source": [
    "#### Import relevant modules"
   ]
  },
  {
   "cell_type": "code",
   "execution_count": 1,
   "metadata": {},
   "outputs": [
    {
     "name": "stderr",
     "output_type": "stream",
     "text": [
      "C:\\Users\\bachmanm\\AppData\\Local\\Temp\\ipykernel_15352\\1428617302.py:12: DeprecationWarning: Importing display from IPython.core.display is deprecated since IPython 7.14, please import from IPython display\n",
      "  from IPython.core.display import display, HTML\n"
     ]
    },
    {
     "data": {
      "text/html": [
       "<style>.container { width:70% !important; }</style>"
      ],
      "text/plain": [
       "<IPython.core.display.HTML object>"
      ]
     },
     "metadata": {},
     "output_type": "display_data"
    },
    {
     "data": {
      "text/html": [
       "<style>div.output_scroll { height: 40em; }</style>"
      ],
      "text/plain": [
       "<IPython.core.display.HTML object>"
      ]
     },
     "metadata": {},
     "output_type": "display_data"
    }
   ],
   "source": [
    "%reload_ext autoreload\n",
    "%autoreload 2\n",
    "%run EEG_auxiliary_module_sptm_wICA.ipynb\n",
    "import matplotlib.pyplot as plt\n",
    "import numpy as np\n",
    "import pandas as pd\n",
    "from statsmodels.graphics.tsaplots import plot_acf\n",
    "import statsmodels.api as sm\n",
    "import os\n",
    "import mne\n",
    "from IPython.core.debugger import set_trace\n",
    "from IPython.core.display import display, HTML\n",
    "display(HTML(\"<style>.container { width:70% !important; }</style>\"))\n",
    "display(HTML(\"<style>div.output_scroll { height: 40em; }</style>\"))\n",
    "import sys\n",
    "import warnings\n",
    "if not sys.warnoptions:\n",
    "    warnings.simplefilter('ignore')\n",
    "    os.environ['PYTHONWARNINGS']='ignore'\n",
    "from scipy import stats as stats\n"
   ]
  },
  {
   "cell_type": "markdown",
   "metadata": {},
   "source": [
    "### get accuracy for all subjects"
   ]
  },
  {
   "cell_type": "code",
   "execution_count": 20,
   "metadata": {},
   "outputs": [
    {
     "name": "stdout",
     "output_type": "stream",
     "text": [
      "Using a threshold of 2.022691\n",
      "stat_fun(H1): min=-1.793382 max=6.364985\n",
      "Running initial clustering …\n",
      "Found 9 clusters\n"
     ]
    },
    {
     "data": {
      "application/vnd.jupyter.widget-view+json": {
       "model_id": "80583879a3f9457fb8f00decbb47d4b8",
       "version_major": 2,
       "version_minor": 0
      },
      "text/plain": [
       "  0%|          | Permuting : 0/1023 [00:00<?,       ?it/s]"
      ]
     },
     "metadata": {},
     "output_type": "display_data"
    },
    {
     "name": "stdout",
     "output_type": "stream",
     "text": [
      "[0.95800781 0.00097656 0.0703125  0.8046875  0.95117188 0.7734375\n",
      " 0.72753906 0.40917969 0.4375    ]\n",
      "Faces\n",
      "Using a threshold of 2.022691\n",
      "stat_fun(H1): min=-2.336137 max=4.798401\n",
      "Running initial clustering …\n",
      "Found 9 clusters\n"
     ]
    },
    {
     "data": {
      "application/vnd.jupyter.widget-view+json": {
       "model_id": "0d91bb31ddc842f4a9f4dc6886a36711",
       "version_major": 2,
       "version_minor": 0
      },
      "text/plain": [
       "  0%|          | Permuting : 0/1023 [00:00<?,       ?it/s]"
      ]
     },
     "metadata": {},
     "output_type": "display_data"
    },
    {
     "name": "stdout",
     "output_type": "stream",
     "text": [
      "[0.6796875  0.57226562 0.95996094 0.00195312 0.95898438 0.578125\n",
      " 0.95996094 0.03417969 0.85351562]\n",
      "FaceValues\n",
      "Using a threshold of 2.022691\n",
      "stat_fun(H1): min=-2.095269 max=9.655751\n",
      "Running initial clustering …\n",
      "Found 9 clusters\n"
     ]
    },
    {
     "data": {
      "application/vnd.jupyter.widget-view+json": {
       "model_id": "e5edb3c5ae974c58a7510d10ed8c635c",
       "version_major": 2,
       "version_minor": 0
      },
      "text/plain": [
       "  0%|          | Permuting : 0/1023 [00:00<?,       ?it/s]"
      ]
     },
     "metadata": {},
     "output_type": "display_data"
    },
    {
     "name": "stdout",
     "output_type": "stream",
     "text": [
      "[0.00097656 0.11621094 0.39746094 0.93945312 0.63378906 0.66796875\n",
      " 0.37988281 0.78027344 0.94042969]\n",
      "Colors\n",
      "Using a threshold of 2.022691\n",
      "stat_fun(H1): min=-1.503737 max=5.514955\n",
      "Running initial clustering …\n",
      "Found 21 clusters\n"
     ]
    },
    {
     "data": {
      "application/vnd.jupyter.widget-view+json": {
       "model_id": "9f9e50ffc5cd45238b1c2470272feca0",
       "version_major": 2,
       "version_minor": 0
      },
      "text/plain": [
       "  0%|          | Permuting : 0/1023 [00:00<?,       ?it/s]"
      ]
     },
     "metadata": {},
     "output_type": "display_data"
    },
    {
     "name": "stdout",
     "output_type": "stream",
     "text": [
      "[0.01953125 0.00878906 0.72265625 0.00585938 0.05761719 0.06347656\n",
      " 0.64257812 0.609375   0.93164062 0.1796875  0.67382812 0.04492188\n",
      " 0.68457031 0.41992188 0.89257812 0.16894531 0.95996094 0.95703125\n",
      " 0.86132812 0.95605469 0.40527344]\n",
      "ColorValues\n",
      "Using a threshold of 2.022691\n",
      "stat_fun(H1): min=-2.160307 max=4.606823\n",
      "Running initial clustering …\n",
      "Found 25 clusters\n"
     ]
    },
    {
     "data": {
      "application/vnd.jupyter.widget-view+json": {
       "model_id": "6fd08b7d77d14b629390bd879d9ccbcd",
       "version_major": 2,
       "version_minor": 0
      },
      "text/plain": [
       "  0%|          | Permuting : 0/1023 [00:00<?,       ?it/s]"
      ]
     },
     "metadata": {},
     "output_type": "display_data"
    },
    {
     "name": "stdout",
     "output_type": "stream",
     "text": [
      "[0.85449219 0.32226562 0.39453125 0.97167969 0.59863281 0.50976562\n",
      " 0.21289062 0.76855469 0.01367188 0.35449219 0.76464844 0.60644531\n",
      " 0.39648438 0.03320312 0.53515625 0.11816406 0.1953125  0.01660156\n",
      " 0.04199219 0.02636719 0.96386719 0.7890625  0.60644531 0.94335938\n",
      " 0.92773438]\n",
      "Value-2\n"
     ]
    }
   ],
   "source": [
    "## creates a ribbonplot for each classification allowing to compare the timing \n",
    "## of accuracies across subjects\"\"\"\n",
    "\n",
    "## Adjust these variables for your conditions of interest.\n",
    "conds    = ['Faces','FaceValues','Colors','ColorValues','Value-2','Response-0']#,\n",
    "\n",
    "## Nothing below this line needs to be changed.\n",
    "subjects = [str(s) for s in [150,151,152,153,154,155,156,157,158,159,160,161,162,163,164,166,167,168,169,170,171,173,174,176,177,178,180,181,182,183,185,186,188,189,190,191,192,193,194,195]]\n",
    "events   = ['Stimulus_long']#\n",
    "\n",
    "tres = .05\n",
    "%matplotlib qt\n",
    "\n",
    "# for multiclass in multiclassValues:\n",
    "multiclass = 'binary'    \n",
    "if multiclass == 'multi':\n",
    "    chance = 20\n",
    "elif multiclass == 'binary':\n",
    "    chance = 50\n",
    "\n",
    "    ################# get accuracy by time #####################  \n",
    "fig, ax = plt.subplots(figsize=(10,10))\n",
    "n_cols  = len(events)\n",
    "n_rows  = len(conds)\n",
    "\n",
    "n_panel = 0\n",
    "\n",
    "for condition in conds:\n",
    "\n",
    "    for event in events:\n",
    "        if event.lower() == 'stimulus':\n",
    "            time = np.arange(-200,1000,10)\n",
    "        elif event.lower() == 'dot':\n",
    "            time = np.arange(800,2000,10)\n",
    "        elif event.lower() == 'stimulus_long':\n",
    "            time = np.arange(-200,2000,10)\n",
    "\n",
    "        if condition == 'Response':\n",
    "            chance = 50\n",
    "\n",
    "\n",
    "        allAccuracy = np.full((len(subjects),time.shape[0]),np.nan)\n",
    "\n",
    "        for s,subj in enumerate(subjects):\n",
    "\n",
    "\n",
    "            accuracy = get_accuracy_by_time_guggenmos_v2_reref(subj,condition, event, 10, multiclass= multiclass,jitFix = None)\n",
    "            accuracy = np.nanmean(accuracy, axis=(0,1))\n",
    "\n",
    "            allAccuracy[s,:] = accuracy\n",
    "\n",
    "        t,pval2 = stats.ttest_1samp(allAccuracy, chance)\n",
    "        t_obs, clusters, cluster_p_values, hzero = mne.stats.spatio_temporal_cluster_1samp_test(allAccuracy-chance)\n",
    "        print(cluster_p_values)\n",
    "        good_clusters_idx = np.where(cluster_p_values < 0.05)[0]\n",
    "        good_clusters = [clusters[idx] for idx in good_clusters_idx]\n",
    "        \n",
    "        sigLine2    = np.empty(time.shape)\n",
    "        sigLine2[:] = np.nan\n",
    "        for x in good_clusters:\n",
    "            sigLine2[x] = 60\n",
    "        n_panel +=1\n",
    "        xticks = np.around(np.linspace(time[0],time[-1],10),decimals = 2)\n",
    "        timelabels = []\n",
    "        [timelabels.append(str(t)) for t in xticks]\n",
    "\n",
    "        ax = plt.subplot(n_rows,n_cols,n_panel)        \n",
    "        sigLine    = np.empty(time.shape)\n",
    "        sigLine[:] = np.nan\n",
    "        sigLine[(pval2<=tres) & (t>0)] = 62\n",
    "        # calculate average\n",
    "        accAvg = list(np.mean(allAccuracy,0))\n",
    "        plt.axhline(y=chance,color='k',linestyle='-')\n",
    "        if event.lower() == 'stimulus':\n",
    "            plt.xlim(-200,1000)\n",
    "            plt.axvline(x=0,color='k',linestyle='--')\n",
    "            plt.show\n",
    "        elif event.lower() == 'dot':\n",
    "            plt.xlim(800,2000)\n",
    "            plt.axvline(x=1000,color='k',linestyle='--')\n",
    "            plt.show\n",
    "        elif event.lower() == 'stimulus_long':\n",
    "            plt.xlim(-200,2000)\n",
    "            tick_labels = ['-200','0','200','400','600','800','1000','1200','1400','1600','1800','2000']\n",
    "            plt.axvline(x=1000,color='k',linestyle='--')\n",
    "            plt.axvline(x=0,color='k',linestyle='--')\n",
    "            plt.xticks(np.arange(time[0],time[-1],step=200))\n",
    "            plt.show\n",
    "        plt.plot(time,accAvg)\n",
    "        plt.plot(time, sigLine2,marker='s',  markersize=3,c='red')\n",
    "        plt.xlabel('time (ms)')\n",
    "        plt.ylabel('accuracy')\n",
    "        plt.ylim([chance - 5, chance + 15])\n",
    "        plt.yticks(np.arange(chance-5,chance+15,step=5))\n",
    "        plt.title(condition+event)\n",
    "\n",
    "        \n",
    "\n",
    "    plt.subplots_adjust(left=None, bottom=None, right=None, top=None, wspace=.3, hspace=.8)\n",
    "    fig.suptitle(multiclass)\n",
    "    print(condition)\n",
    "    plt.savefig('full_set_n40_permutations_reref.eps', format='eps')\n"
   ]
  },
  {
   "cell_type": "code",
   "execution_count": 1,
   "metadata": {},
   "outputs": [
    {
     "ename": "NameError",
     "evalue": "name 'time' is not defined",
     "output_type": "error",
     "traceback": [
      "\u001b[1;31m---------------------------------------------------------------------------\u001b[0m",
      "\u001b[1;31mNameError\u001b[0m                                 Traceback (most recent call last)",
      "Cell \u001b[1;32mIn[1], line 2\u001b[0m\n\u001b[0;32m      1\u001b[0m \u001b[38;5;66;03m# This shows the significant time clusters for the last condition run.\u001b[39;00m\n\u001b[1;32m----> 2\u001b[0m time[\u001b[38;5;241m~\u001b[39mnp\u001b[38;5;241m.\u001b[39misnan(sigLine2)]\n",
      "\u001b[1;31mNameError\u001b[0m: name 'time' is not defined"
     ]
    }
   ],
   "source": [
    "# This shows the significant time clusters for the last condition run.\n",
    "time[~np.isnan(sigLine2)]"
   ]
  }
 ],
 "metadata": {
  "kernelspec": {
   "display_name": "Python 3 (ipykernel)",
   "language": "python",
   "name": "python3"
  },
  "language_info": {
   "codemirror_mode": {
    "name": "ipython",
    "version": 3
   },
   "file_extension": ".py",
   "mimetype": "text/x-python",
   "name": "python",
   "nbconvert_exporter": "python",
   "pygments_lexer": "ipython3",
   "version": "3.11.5"
  }
 },
 "nbformat": 4,
 "nbformat_minor": 4
}
